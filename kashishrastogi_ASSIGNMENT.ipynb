{
  "nbformat": 4,
  "nbformat_minor": 0,
  "metadata": {
    "colab": {
      "provenance": [],
      "include_colab_link": true
    },
    "kernelspec": {
      "name": "python3",
      "display_name": "Python 3"
    },
    "language_info": {
      "name": "python"
    }
  },
  "cells": [
    {
      "cell_type": "markdown",
      "metadata": {
        "id": "view-in-github",
        "colab_type": "text"
      },
      "source": [
        "<a href=\"https://colab.research.google.com/github/kashishrastogi1/kashishrastogi_cseai_assignment1/blob/main/kashishrastogi_ASSIGNMENT.ipynb\" target=\"_parent\"><img src=\"https://colab.research.google.com/assets/colab-badge.svg\" alt=\"Open In Colab\"/></a>"
      ]
    },
    {
      "cell_type": "markdown",
      "source": [
        "#EDA"
      ],
      "metadata": {
        "id": "67ZNXN8OF79T"
      }
    },
    {
      "cell_type": "markdown",
      "source": [
        "Hi everyone, This is your first assignment for week 1...\n",
        "So in this assignment you have to perform EDA on the below dataset.\n",
        "The problem statements are given below.\n",
        "Just write a code for them..."
      ],
      "metadata": {
        "id": "IIfMYAslGDhk"
      }
    },
    {
      "cell_type": "code",
      "execution_count": null,
      "metadata": {
        "colab": {
          "base_uri": "https://localhost:8080/"
        },
        "id": "MC89QfHwiMFp",
        "outputId": "f994edd4-5aba-4c26-d651-7aa14ca7c656"
      },
      "outputs": [
        {
          "output_type": "stream",
          "name": "stdout",
          "text": [
            "--2023-09-09 13:44:35--  https://www.kaggle.com/datasets/aestheteaman01/zomato-restaurants-in-delhi-ncr\n",
            "Resolving www.kaggle.com (www.kaggle.com)... 35.244.233.98\n",
            "Connecting to www.kaggle.com (www.kaggle.com)|35.244.233.98|:443... connected.\n",
            "HTTP request sent, awaiting response... 200 OK\n",
            "Length: unspecified [text/html]\n",
            "Saving to: ‘zomato-restaurants-in-delhi-ncr’\n",
            "\n",
            "zomato-restaurants-     [ <=>                ]  15.94K  --.-KB/s    in 0.03s   \n",
            "\n",
            "2023-09-09 13:44:36 (482 KB/s) - ‘zomato-restaurants-in-delhi-ncr’ saved [16322]\n",
            "\n"
          ]
        }
      ],
      "source": [
        "!wget https://www.kaggle.com/datasets/aestheteaman01/zomato-restaurants-in-delhi-ncr\n"
      ]
    },
    {
      "cell_type": "code",
      "source": [
        "import pandas as pd\n",
        "import numpy as np\n",
        "import matplotlib.pyplot as plt\n",
        "import seaborn as sns\n",
        "\n"
      ],
      "metadata": {
        "id": "EbKbB1bCgEGW"
      },
      "execution_count": 2,
      "outputs": []
    },
    {
      "cell_type": "code",
      "source": [
        "data=pd.read_csv('DelhiNCR Restaurants.csv')"
      ],
      "metadata": {
        "id": "Sju0lJbEghKP"
      },
      "execution_count": 3,
      "outputs": []
    },
    {
      "cell_type": "code",
      "source": [
        "data.columns"
      ],
      "metadata": {
        "id": "Rc8LS0dags_O",
        "colab": {
          "base_uri": "https://localhost:8080/"
        },
        "outputId": "a4b6b05f-ffd1-4606-96a0-588b729a6d53"
      },
      "execution_count": 4,
      "outputs": [
        {
          "output_type": "execute_result",
          "data": {
            "text/plain": [
              "Index(['Restaurant_Name', 'Category', 'Pricing_for_2', 'Locality',\n",
              "       'Dining_Rating', 'Dining_Review_Count', 'Delivery_Rating',\n",
              "       'Delivery_Rating_Count', 'Website', 'Address', 'Phone_No', 'Latitude',\n",
              "       'Longitude', 'Known_For2', 'Known_For22'],\n",
              "      dtype='object')"
            ]
          },
          "metadata": {},
          "execution_count": 4
        }
      ]
    },
    {
      "cell_type": "markdown",
      "source": [
        "Q1.Are there any null values in the dataset?if yes then fill them.."
      ],
      "metadata": {
        "id": "HtvWYJz-GfqA"
      }
    },
    {
      "cell_type": "code",
      "source": [
        "data.isnull().sum()"
      ],
      "metadata": {
        "id": "s-on8iKJGhbW",
        "outputId": "5de54a8d-4cb0-49dd-e60a-a1fab9dc77cf",
        "colab": {
          "base_uri": "https://localhost:8080/"
        }
      },
      "execution_count": null,
      "outputs": [
        {
          "output_type": "execute_result",
          "data": {
            "text/plain": [
              "Restaurant_Name            0\n",
              "Category                   0\n",
              "Pricing_for_2              0\n",
              "Locality                   0\n",
              "Dining_Rating              0\n",
              "Dining_Review_Count        0\n",
              "Delivery_Rating          402\n",
              "Delivery_Rating_Count      0\n",
              "Website                    0\n",
              "Address                    0\n",
              "Phone_No                   0\n",
              "Latitude                   0\n",
              "Longitude                  0\n",
              "Known_For2               405\n",
              "Known_For22              841\n",
              "dtype: int64"
            ]
          },
          "metadata": {},
          "execution_count": 4
        }
      ]
    },
    {
      "cell_type": "code",
      "source": [
        "data['Delivery_Rating'].value_counts()"
      ],
      "metadata": {
        "id": "-EdL8qF1GhFy",
        "colab": {
          "base_uri": "https://localhost:8080/"
        },
        "outputId": "4f7a6df5-5c4c-4b89-e7d9-05cb0380cea9"
      },
      "execution_count": null,
      "outputs": [
        {
          "output_type": "execute_result",
          "data": {
            "text/plain": [
              "3.9    402\n",
              "3.9    304\n",
              "4.0    264\n",
              "4.1    253\n",
              "4.2    177\n",
              "3.8    140\n",
              "4.3    135\n",
              "3.7     99\n",
              "3.6     60\n",
              "3.5     50\n",
              "4.4     26\n",
              "3.4     20\n",
              "3.3     11\n",
              "4.5      8\n",
              "3.2      6\n",
              "3.1      5\n",
              "3.0      3\n",
              "2.8      1\n",
              "2.9      1\n",
              "Name: Delivery_Rating, dtype: int64"
            ]
          },
          "metadata": {},
          "execution_count": 8
        }
      ]
    },
    {
      "cell_type": "code",
      "source": [
        "data=data.fillna(value=4)"
      ],
      "metadata": {
        "id": "TQbrgP8OhOCP"
      },
      "execution_count": 21,
      "outputs": []
    },
    {
      "cell_type": "code",
      "source": [
        "data.isnull().sum()"
      ],
      "metadata": {
        "id": "-vMM1nKihXcB",
        "colab": {
          "base_uri": "https://localhost:8080/"
        },
        "outputId": "cd53915c-fc9f-44cc-8d86-24c00ca48b34"
      },
      "execution_count": 20,
      "outputs": [
        {
          "output_type": "execute_result",
          "data": {
            "text/plain": [
              "Restaurant_Name          0\n",
              "Category                 0\n",
              "Pricing_for_2            0\n",
              "Locality                 0\n",
              "Dining_Rating            0\n",
              "Dining_Review_Count      0\n",
              "Delivery_Rating          0\n",
              "Delivery_Rating_Count    0\n",
              "Website                  0\n",
              "Address                  0\n",
              "Phone_No                 0\n",
              "Latitude                 0\n",
              "Longitude                0\n",
              "Known_For2               0\n",
              "Known_For22              0\n",
              "dtype: int64"
            ]
          },
          "metadata": {},
          "execution_count": 20
        }
      ]
    },
    {
      "cell_type": "markdown",
      "source": [
        "Q2.Which restaurant is the best one having ratings more than 4.5 for delivery\n"
      ],
      "metadata": {
        "id": "Ws9ZK5OdGiKG"
      }
    },
    {
      "cell_type": "code",
      "source": [
        "y=data['Delivery_Rating'].value_counts()\n",
        "y"
      ],
      "metadata": {
        "id": "dlaB213gRzQE",
        "colab": {
          "base_uri": "https://localhost:8080/"
        },
        "outputId": "3a8fd595-70c7-4b76-b4f1-b28a68fdc569"
      },
      "execution_count": 6,
      "outputs": [
        {
          "output_type": "execute_result",
          "data": {
            "text/plain": [
              "4.0    666\n",
              "3.9    304\n",
              "4.1    253\n",
              "4.2    177\n",
              "3.8    140\n",
              "4.3    135\n",
              "3.7     99\n",
              "3.6     60\n",
              "3.5     50\n",
              "4.4     26\n",
              "3.4     20\n",
              "3.3     11\n",
              "4.5      8\n",
              "3.2      6\n",
              "3.1      5\n",
              "3.0      3\n",
              "2.8      1\n",
              "2.9      1\n",
              "Name: Delivery_Rating, dtype: int64"
            ]
          },
          "metadata": {},
          "execution_count": 6
        }
      ]
    },
    {
      "cell_type": "code",
      "source": [
        "data['Delivery_Rating']=data['Delivery_Rating'].apply(float)\n",
        "a=data['Restaurant_Name'][(data['Delivery_Rating']>=4.5)]\n",
        "a"
      ],
      "metadata": {
        "colab": {
          "base_uri": "https://localhost:8080/"
        },
        "id": "fkxN1LKn3D2P",
        "outputId": "0753afff-24d2-4f6f-d90d-6671890bbba3"
      },
      "execution_count": 13,
      "outputs": [
        {
          "output_type": "execute_result",
          "data": {
            "text/plain": [
              "7                          Natural Ice Cream\n",
              "152     The Haven International Coffee House\n",
              "249                            Sibang Bakery\n",
              "269                                BreadTalk\n",
              "829                                Krua Thai\n",
              "1342                 KAP's Restro Bar & Cafe\n",
              "1445                                Choko La\n",
              "1505                          Twist of Italy\n",
              "Name: Restaurant_Name, dtype: object"
            ]
          },
          "metadata": {},
          "execution_count": 13
        }
      ]
    },
    {
      "cell_type": "code",
      "source": [
        "sns.barplot(x=a,y='Delivery_Rating',data=data)\n"
      ],
      "metadata": {
        "id": "MDLra2gLGtoW",
        "colab": {
          "base_uri": "https://localhost:8080/",
          "height": 466
        },
        "outputId": "7980b259-8c22-49ee-d061-d12960762ccf"
      },
      "execution_count": 14,
      "outputs": [
        {
          "output_type": "execute_result",
          "data": {
            "text/plain": [
              "<Axes: xlabel='Restaurant_Name', ylabel='Delivery_Rating'>"
            ]
          },
          "metadata": {},
          "execution_count": 14
        },
        {
          "output_type": "display_data",
          "data": {
            "text/plain": [
              "<Figure size 640x480 with 1 Axes>"
            ],
            "image/png": "[encoded data removed]"
          },
          "metadata": {}
        }
      ]
    },
    {
      "cell_type": "markdown",
      "source": [
        "\n",
        "Q3.What type of food is most preffered by the customers?"
      ],
      "metadata": {
        "id": "6zt-dhyBGrkf"
      }
    },
    {
      "cell_type": "code",
      "source": [
        "data['Category'].value_counts()"
      ],
      "metadata": {
        "colab": {
          "base_uri": "https://localhost:8080/"
        },
        "id": "rKY5JNQBw8lJ",
        "outputId": "2cdbe739-69ae-4d6a-d591-ae599def83b7"
      },
      "execution_count": null,
      "outputs": [
        {
          "output_type": "execute_result",
          "data": {
            "text/plain": [
              "North Indian                                                      88\n",
              "North Indian, Chinese                                             39\n",
              "North Indian, Mughlai                                             37\n",
              "Pizza, Fast Food                                                  19\n",
              "North Indian, Chinese, Mughlai                                    17\n",
              "                                                                  ..\n",
              "North Indian, Kebab, Mughlai, Biryani, Beverages                   1\n",
              "North Indian, Continental, Italian, Chinese                        1\n",
              "North Indian, Continental, Asian, Chinese                          1\n",
              "Afghan, Iranian, Awadhi, Beverages                                 1\n",
              "Cafe, North Indian, Chinese, Kashmiri, Rolls, Pizza, Beverages     1\n",
              "Name: Category, Length: 1355, dtype: int64"
            ]
          },
          "metadata": {},
          "execution_count": 56
        }
      ]
    },
    {
      "cell_type": "markdown",
      "source": [
        "North Indian food is preferred"
      ],
      "metadata": {
        "id": "dGVbJsm0541r"
      }
    },
    {
      "cell_type": "code",
      "source": [
        "x=data['Category'].value_counts()\n",
        "x\n",
        "sns.countplot(x=data['Category'])"
      ],
      "metadata": {
        "colab": {
          "base_uri": "https://localhost:8080/",
          "height": 467
        },
        "id": "6QyGFwA5R3zq",
        "outputId": "fa4ff9de-8626-40e3-c5d4-f769f548ef21"
      },
      "execution_count": null,
      "outputs": [
        {
          "output_type": "execute_result",
          "data": {
            "text/plain": [
              "<Axes: xlabel='Category', ylabel='count'>"
            ]
          },
          "metadata": {},
          "execution_count": 55
        },
        {
          "output_type": "display_data",
          "data": {
            "text/plain": [
              "<Figure size 640x480 with 1 Axes>"
            ],
            "image/png": "[encoded data removed]"
          },
          "metadata": {}
        }
      ]
    },
    {
      "cell_type": "markdown",
      "source": [
        "Q4.How many people prefer delivery rather than dining ?"
      ],
      "metadata": {
        "id": "h3foQEmEGvxQ"
      }
    },
    {
      "cell_type": "code",
      "source": [
        "y=data['Delivery_Rating_Count'].sum()\n",
        "y"
      ],
      "metadata": {
        "id": "1Ph57fW1Gx5m",
        "colab": {
          "base_uri": "https://localhost:8080/"
        },
        "outputId": "97f462e9-47dd-40d1-9269-c6e89a700c36"
      },
      "execution_count": null,
      "outputs": [
        {
          "output_type": "execute_result",
          "data": {
            "text/plain": [
              "5953067"
            ]
          },
          "metadata": {},
          "execution_count": 23
        }
      ]
    },
    {
      "cell_type": "code",
      "source": [
        "\n",
        "y2=data['Dining_Review_Count'].sum()\n",
        "y2"
      ],
      "metadata": {
        "id": "bpZjm6WRGxv5",
        "colab": {
          "base_uri": "https://localhost:8080/"
        },
        "outputId": "e7ff3644-a2d4-436a-9b9e-ee4a6aa21548"
      },
      "execution_count": null,
      "outputs": [
        {
          "output_type": "execute_result",
          "data": {
            "text/plain": [
              "1418640"
            ]
          },
          "metadata": {},
          "execution_count": 26
        }
      ]
    },
    {
      "cell_type": "code",
      "source": [
        "y-y2"
      ],
      "metadata": {
        "colab": {
          "base_uri": "https://localhost:8080/"
        },
        "id": "AWIvg9o26Frk",
        "outputId": "25af93e5-b630-471d-eb70-82f5aee677c5"
      },
      "execution_count": null,
      "outputs": [
        {
          "output_type": "execute_result",
          "data": {
            "text/plain": [
              "4534427"
            ]
          },
          "metadata": {},
          "execution_count": 27
        }
      ]
    },
    {
      "cell_type": "markdown",
      "source": [
        " 4534427 people prefer delivery over dining"
      ],
      "metadata": {
        "id": "SIW0919y7z82"
      }
    },
    {
      "cell_type": "code",
      "source": [
        "x_axis=data['Delivery_Rating']\n",
        "y_axis=data['Delivery_Rating_Count']\n",
        "x2_axis=data['Dining_Rating']\n",
        "y2_axis=data['Dining_Review_Count']\n",
        "plt.scatter(x_axis,y_axis,c='red')\n",
        "plt.scatter(x2_axis,y2_axis)\n",
        "\n",
        "plt.show()"
      ],
      "metadata": {
        "colab": {
          "base_uri": "https://localhost:8080/",
          "height": 430
        },
        "id": "0oiOyleQsTx9",
        "outputId": "18236893-b9ee-4f37-9be0-f5fdada14ee8"
      },
      "execution_count": null,
      "outputs": [
        {
          "output_type": "display_data",
          "data": {
            "text/plain": [
              "<Figure size 640x480 with 1 Axes>"
            ],
            "image/png": "[encoded data removed]"
          },
          "metadata": {}
        }
      ]
    },
    {
      "cell_type": "markdown",
      "source": [
        "Q5.Which restaurant is the best one having ratings more than 4.5 for dining?"
      ],
      "metadata": {
        "id": "q6oUmSnmGynu"
      }
    },
    {
      "cell_type": "code",
      "source": [
        "b=data['Restaurant_Name'][(data['Dining_Rating']>=4.5)]\n",
        "c=data[['Restaurant_Name','Dining_Review_Count']][(data['Dining_Rating']>=4.5)].sort_values('Dining_Review_Count')\n",
        "c"
      ],
      "metadata": {
        "colab": {
          "base_uri": "https://localhost:8080/",
          "height": 423
        },
        "id": "JIg7DpSU76rL",
        "outputId": "11365597-302f-4576-b105-f8a2acf64f8c"
      },
      "execution_count": 30,
      "outputs": [
        {
          "output_type": "execute_result",
          "data": {
            "text/plain": [
              "                          Restaurant_Name  Dining_Review_Count\n",
              "42                     Echoes Living Room                    3\n",
              "165                   Only Bar Restaurant                   91\n",
              "93                                   Rooh                  247\n",
              "152  The Haven International Coffee House                  282\n",
              "158                         Little Saigon                  440\n",
              "..                                    ...                  ...\n",
              "89                   The Drunken Botanist                 6302\n",
              "4                           The Big Chill                 6487\n",
              "20                                 Gulati                 6509\n",
              "51              AB's - Absolute Barbecues                 8002\n",
              "54                        Saravana Bhavan                 8305\n",
              "\n",
              "[166 rows x 2 columns]"
            ],
            "text/html": [
              "\n",
              "  <div id=\"df-efd8145d-cded-4f88-86c5-d3a3ec210cbb\" class=\"colab-df-container\">\n",
              "    <div>\n",
              "<style scoped>\n",
              "    .dataframe tbody tr th:only-of-type {\n",
              "        vertical-align: middle;\n",
              "    }\n",
              "\n",
              "    .dataframe tbody tr th {\n",
              "        vertical-align: top;\n",
              "    }\n",
              "\n",
              "    .dataframe thead th {\n",
              "        text-align: right;\n",
              "    }\n",
              "</style>\n",
              "<table border=\"1\" class=\"dataframe\">\n",
              "  <thead>\n",
              "    <tr style=\"text-align: right;\">\n",
              "      <th></th>\n",
              "      <th>Restaurant_Name</th>\n",
              "      <th>Dining_Review_Count</th>\n",
              "    </tr>\n",
              "  </thead>\n",
              "  <tbody>\n",
              "    <tr>\n",
              "      <th>42</th>\n",
              "      <td>Echoes Living Room</td>\n",
              "      <td>3</td>\n",
              "    </tr>\n",
              "    <tr>\n",
              "      <th>165</th>\n",
              "      <td>Only Bar Restaurant</td>\n",
              "      <td>91</td>\n",
              "    </tr>\n",
              "    <tr>\n",
              "      <th>93</th>\n",
              "      <td>Rooh</td>\n",
              "      <td>247</td>\n",
              "    </tr>\n",
              "    <tr>\n",
              "      <th>152</th>\n",
              "      <td>The Haven International Coffee House</td>\n",
              "      <td>282</td>\n",
              "    </tr>\n",
              "    <tr>\n",
              "      <th>158</th>\n",
              "      <td>Little Saigon</td>\n",
              "      <td>440</td>\n",
              "    </tr>\n",
              "    <tr>\n",
              "      <th>...</th>\n",
              "      <td>...</td>\n",
              "      <td>...</td>\n",
              "    </tr>\n",
              "    <tr>\n",
              "      <th>89</th>\n",
              "      <td>The Drunken Botanist</td>\n",
              "      <td>6302</td>\n",
              "    </tr>\n",
              "    <tr>\n",
              "      <th>4</th>\n",
              "      <td>The Big Chill</td>\n",
              "      <td>6487</td>\n",
              "    </tr>\n",
              "    <tr>\n",
              "      <th>20</th>\n",
              "      <td>Gulati</td>\n",
              "      <td>6509</td>\n",
              "    </tr>\n",
              "    <tr>\n",
              "      <th>51</th>\n",
              "      <td>AB's - Absolute Barbecues</td>\n",
              "      <td>8002</td>\n",
              "    </tr>\n",
              "    <tr>\n",
              "      <th>54</th>\n",
              "      <td>Saravana Bhavan</td>\n",
              "      <td>8305</td>\n",
              "    </tr>\n",
              "  </tbody>\n",
              "</table>\n",
              "<p>166 rows × 2 columns</p>\n",
              "</div>\n",
              "    <div class=\"colab-df-buttons\">\n",
              "\n",
              "  <div class=\"colab-df-container\">\n",
              "    <button class=\"colab-df-convert\" onclick=\"convertToInteractive('df-efd8145d-cded-4f88-86c5-d3a3ec210cbb')\"\n",
              "            title=\"Convert this dataframe to an interactive table.\"\n",
              "            style=\"display:none;\">\n",
              "\n",
              "  <svg xmlns=\"http://www.w3.org/2000/svg\" height=\"24px\" viewBox=\"0 -960 960 960\">\n",
              "    <path d=\"M120-120v-720h720v720H120Zm60-500h600v-160H180v160Zm220 220h160v-160H400v160Zm0 220h160v-160H400v160ZM180-400h160v-160H180v160Zm440 0h160v-160H620v160ZM180-180h160v-160H180v160Zm440 0h160v-160H620v160Z\"/>\n",
              "  </svg>\n",
              "    </button>\n",
              "\n",
              "  <style>\n",
              "    .colab-df-container {\n",
              "      display:flex;\n",
              "      gap: 12px;\n",
              "    }\n",
              "\n",
              "    .colab-df-convert {\n",
              "      background-color: #E8F0FE;\n",
              "      border: none;\n",
              "      border-radius: 50%;\n",
              "      cursor: pointer;\n",
              "      display: none;\n",
              "      fill: #1967D2;\n",
              "      height: 32px;\n",
              "      padding: 0 0 0 0;\n",
              "      width: 32px;\n",
              "    }\n",
              "\n",
              "    .colab-df-convert:hover {\n",
              "      background-color: #E2EBFA;\n",
              "      box-shadow: 0px 1px 2px rgba(60, 64, 67, 0.3), 0px 1px 3px 1px rgba(60, 64, 67, 0.15);\n",
              "      fill: #174EA6;\n",
              "    }\n",
              "\n",
              "    .colab-df-buttons div {\n",
              "      margin-bottom: 4px;\n",
              "    }\n",
              "\n",
              "    [theme=dark] .colab-df-convert {\n",
              "      background-color: #3B4455;\n",
              "      fill: #D2E3FC;\n",
              "    }\n",
              "\n",
              "    [theme=dark] .colab-df-convert:hover {\n",
              "      background-color: #434B5C;\n",
              "      box-shadow: 0px 1px 3px 1px rgba(0, 0, 0, 0.15);\n",
              "      filter: drop-shadow(0px 1px 2px rgba(0, 0, 0, 0.3));\n",
              "      fill: #FFFFFF;\n",
              "    }\n",
              "  </style>\n",
              "\n",
              "    <script>\n",
              "      const buttonEl =\n",
              "        document.querySelector('#df-efd8145d-cded-4f88-86c5-d3a3ec210cbb button.colab-df-convert');\n",
              "      buttonEl.style.display =\n",
              "        google.colab.kernel.accessAllowed ? 'block' : 'none';\n",
              "\n",
              "      async function convertToInteractive(key) {\n",
              "        const element = document.querySelector('#df-efd8145d-cded-4f88-86c5-d3a3ec210cbb');\n",
              "        const dataTable =\n",
              "          await google.colab.kernel.invokeFunction('convertToInteractive',\n",
              "                                                    [key], {});\n",
              "        if (!dataTable) return;\n",
              "\n",
              "        const docLinkHtml = 'Like what you see? Visit the ' +\n",
              "          '<a target=\"_blank\" href=https://colab.research.google.com/notebooks/data_table.ipynb>data table notebook</a>'\n",
              "          + ' to learn more about interactive tables.';\n",
              "        element.innerHTML = '';\n",
              "        dataTable['output_type'] = 'display_data';\n",
              "        await google.colab.output.renderOutput(dataTable, element);\n",
              "        const docLink = document.createElement('div');\n",
              "        docLink.innerHTML = docLinkHtml;\n",
              "        element.appendChild(docLink);\n",
              "      }\n",
              "    </script>\n",
              "  </div>\n",
              "\n",
              "\n",
              "<div id=\"df-21cbf71e-288b-4af8-bea6-79fa4f5730a2\">\n",
              "  <button class=\"colab-df-quickchart\" onclick=\"quickchart('df-21cbf71e-288b-4af8-bea6-79fa4f5730a2')\"\n",
              "            title=\"Suggest charts.\"\n",
              "            style=\"display:none;\">\n",
              "\n",
              "<svg xmlns=\"http://www.w3.org/2000/svg\" height=\"24px\"viewBox=\"0 0 24 24\"\n",
              "     width=\"24px\">\n",
              "    <g>\n",
              "        <path d=\"M19 3H5c-1.1 0-2 .9-2 2v14c0 1.1.9 2 2 2h14c1.1 0 2-.9 2-2V5c0-1.1-.9-2-2-2zM9 17H7v-7h2v7zm4 0h-2V7h2v10zm4 0h-2v-4h2v4z\"/>\n",
              "    </g>\n",
              "</svg>\n",
              "  </button>\n",
              "\n",
              "<style>\n",
              "  .colab-df-quickchart {\n",
              "      --bg-color: #E8F0FE;\n",
              "      --fill-color: #1967D2;\n",
              "      --hover-bg-color: #E2EBFA;\n",
              "      --hover-fill-color: #174EA6;\n",
              "      --disabled-fill-color: #AAA;\n",
              "      --disabled-bg-color: #DDD;\n",
              "  }\n",
              "\n",
              "  [theme=dark] .colab-df-quickchart {\n",
              "      --bg-color: #3B4455;\n",
              "      --fill-color: #D2E3FC;\n",
              "      --hover-bg-color: #434B5C;\n",
              "      --hover-fill-color: #FFFFFF;\n",
              "      --disabled-bg-color: #3B4455;\n",
              "      --disabled-fill-color: #666;\n",
              "  }\n",
              "\n",
              "  .colab-df-quickchart {\n",
              "    background-color: var(--bg-color);\n",
              "    border: none;\n",
              "    border-radius: 50%;\n",
              "    cursor: pointer;\n",
              "    display: none;\n",
              "    fill: var(--fill-color);\n",
              "    height: 32px;\n",
              "    padding: 0;\n",
              "    width: 32px;\n",
              "  }\n",
              "\n",
              "  .colab-df-quickchart:hover {\n",
              "    background-color: var(--hover-bg-color);\n",
              "    box-shadow: 0 1px 2px rgba(60, 64, 67, 0.3), 0 1px 3px 1px rgba(60, 64, 67, 0.15);\n",
              "    fill: var(--button-hover-fill-color);\n",
              "  }\n",
              "\n",
              "  .colab-df-quickchart-complete:disabled,\n",
              "  .colab-df-quickchart-complete:disabled:hover {\n",
              "    background-color: var(--disabled-bg-color);\n",
              "    fill: var(--disabled-fill-color);\n",
              "    box-shadow: none;\n",
              "  }\n",
              "\n",
              "  .colab-df-spinner {\n",
              "    border: 2px solid var(--fill-color);\n",
              "    border-color: transparent;\n",
              "    border-bottom-color: var(--fill-color);\n",
              "    animation:\n",
              "      spin 1s steps(1) infinite;\n",
              "  }\n",
              "\n",
              "  @keyframes spin {\n",
              "    0% {\n",
              "      border-color: transparent;\n",
              "      border-bottom-color: var(--fill-color);\n",
              "      border-left-color: var(--fill-color);\n",
              "    }\n",
              "    20% {\n",
              "      border-color: transparent;\n",
              "      border-left-color: var(--fill-color);\n",
              "      border-top-color: var(--fill-color);\n",
              "    }\n",
              "    30% {\n",
              "      border-color: transparent;\n",
              "      border-left-color: var(--fill-color);\n",
              "      border-top-color: var(--fill-color);\n",
              "      border-right-color: var(--fill-color);\n",
              "    }\n",
              "    40% {\n",
              "      border-color: transparent;\n",
              "      border-right-color: var(--fill-color);\n",
              "      border-top-color: var(--fill-color);\n",
              "    }\n",
              "    60% {\n",
              "      border-color: transparent;\n",
              "      border-right-color: var(--fill-color);\n",
              "    }\n",
              "    80% {\n",
              "      border-color: transparent;\n",
              "      border-right-color: var(--fill-color);\n",
              "      border-bottom-color: var(--fill-color);\n",
              "    }\n",
              "    90% {\n",
              "      border-color: transparent;\n",
              "      border-bottom-color: var(--fill-color);\n",
              "    }\n",
              "  }\n",
              "</style>\n",
              "\n",
              "  <script>\n",
              "    async function quickchart(key) {\n",
              "      const quickchartButtonEl =\n",
              "        document.querySelector('#' + key + ' button');\n",
              "      quickchartButtonEl.disabled = true;  // To prevent multiple clicks.\n",
              "      quickchartButtonEl.classList.add('colab-df-spinner');\n",
              "      try {\n",
              "        const charts = await google.colab.kernel.invokeFunction(\n",
              "            'suggestCharts', [key], {});\n",
              "      } catch (error) {\n",
              "        console.error('Error during call to suggestCharts:', error);\n",
              "      }\n",
              "      quickchartButtonEl.classList.remove('colab-df-spinner');\n",
              "      quickchartButtonEl.classList.add('colab-df-quickchart-complete');\n",
              "    }\n",
              "    (() => {\n",
              "      let quickchartButtonEl =\n",
              "        document.querySelector('#df-21cbf71e-288b-4af8-bea6-79fa4f5730a2 button');\n",
              "      quickchartButtonEl.style.display =\n",
              "        google.colab.kernel.accessAllowed ? 'block' : 'none';\n",
              "    })();\n",
              "  </script>\n",
              "</div>\n",
              "    </div>\n",
              "  </div>\n"
            ]
          },
          "metadata": {},
          "execution_count": 30
        }
      ]
    },
    {
      "cell_type": "markdown",
      "source": [
        "Sarwana Bhavan has got max rating counts"
      ],
      "metadata": {
        "id": "lj0fHEtL8hH-"
      }
    },
    {
      "cell_type": "code",
      "source": [
        "sns.barplot(x=b,y='Dining_Review_Count',data=data)\n",
        "\n",
        "\n"
      ],
      "metadata": {
        "id": "jT6YqVFtHAmm",
        "colab": {
          "base_uri": "https://localhost:8080/",
          "height": 466
        },
        "outputId": "6fe3f196-ba65-411f-b47f-e32bb9ff6993"
      },
      "execution_count": 31,
      "outputs": [
        {
          "output_type": "execute_result",
          "data": {
            "text/plain": [
              "<Axes: xlabel='Restaurant_Name', ylabel='Dining_Review_Count'>"
            ]
          },
          "metadata": {},
          "execution_count": 31
        },
        {
          "output_type": "display_data",
          "data": {
            "text/plain": [
              "<Figure size 640x480 with 1 Axes>"
            ],
            "image/png": "[encoded data removed]"
          },
          "metadata": {}
        }
      ]
    },
    {
      "cell_type": "markdown",
      "source": [
        "Q6.Compare different delivery rating counts of different restaurants.\n",
        "Also tell that which restaurants has got the highest rating counts.\n",
        "Do this by creating a barplot"
      ],
      "metadata": {
        "id": "S0xc-qANHHoj"
      }
    },
    {
      "cell_type": "code",
      "source": [],
      "metadata": {
        "id": "fbQ26HqYIGfC"
      },
      "execution_count": null,
      "outputs": []
    },
    {
      "cell_type": "code",
      "source": [
        "plt.figure(figsize=(5,4))\n",
        "sns.barplot(x='Restaurant_Name',y='Delivery_Rating_Count',data=data)\n",
        "plt.show()"
      ],
      "metadata": {
        "id": "L8JiWyFIIPes",
        "colab": {
          "base_uri": "https://localhost:8080/",
          "height": 388
        },
        "outputId": "b6298a35-cbdd-42f1-db4c-a04d79209621"
      },
      "execution_count": null,
      "outputs": [
        {
          "output_type": "display_data",
          "data": {
            "text/plain": [
              "<Figure size 500x400 with 1 Axes>"
            ],
            "image/png": "[encoded data removed]"
          },
          "metadata": {}
        }
      ]
    }
  ]
}